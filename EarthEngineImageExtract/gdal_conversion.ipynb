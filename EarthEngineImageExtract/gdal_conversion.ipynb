{
  "nbformat": 4,
  "nbformat_minor": 0,
  "metadata": {
    "colab": {
      "name": "gdal_conversion.ipynb",
      "provenance": [],
      "collapsed_sections": []
    },
    "kernelspec": {
      "name": "python3",
      "display_name": "Python 3"
    }
  },
  "cells": [
    {
      "cell_type": "code",
      "metadata": {
        "id": "yIB5MSxO7J1b",
        "colab_type": "code",
        "colab": {
          "base_uri": "https://localhost:8080/",
          "height": 524
        },
        "outputId": "13423012-6a39-4bbb-a33f-d5a11f450fb9"
      },
      "source": [
        "!pip install earthengine-api --upgrade"
      ],
      "execution_count": null,
      "outputs": [
        {
          "output_type": "stream",
          "text": [
            "Requirement already up-to-date: earthengine-api in /usr/local/lib/python3.6/dist-packages (0.1.226)\n",
            "Requirement already satisfied, skipping upgrade: google-cloud-storage in /usr/local/lib/python3.6/dist-packages (from earthengine-api) (1.18.1)\n",
            "Requirement already satisfied, skipping upgrade: six in /usr/local/lib/python3.6/dist-packages (from earthengine-api) (1.12.0)\n",
            "Requirement already satisfied, skipping upgrade: httplib2<1dev,>=0.9.2 in /usr/local/lib/python3.6/dist-packages (from earthengine-api) (0.17.4)\n",
            "Requirement already satisfied, skipping upgrade: google-auth-httplib2>=0.0.3 in /usr/local/lib/python3.6/dist-packages (from earthengine-api) (0.0.3)\n",
            "Requirement already satisfied, skipping upgrade: httplib2shim in /usr/local/lib/python3.6/dist-packages (from earthengine-api) (0.0.3)\n",
            "Requirement already satisfied, skipping upgrade: google-auth>=1.4.1 in /usr/local/lib/python3.6/dist-packages (from earthengine-api) (1.17.2)\n",
            "Requirement already satisfied, skipping upgrade: future in /usr/local/lib/python3.6/dist-packages (from earthengine-api) (0.16.0)\n",
            "Requirement already satisfied, skipping upgrade: google-api-python-client in /usr/local/lib/python3.6/dist-packages (from earthengine-api) (1.7.12)\n",
            "Requirement already satisfied, skipping upgrade: google-cloud-core<2.0dev,>=1.0.0 in /usr/local/lib/python3.6/dist-packages (from google-cloud-storage->earthengine-api) (1.0.3)\n",
            "Requirement already satisfied, skipping upgrade: google-resumable-media<0.5.0dev,>=0.3.1 in /usr/local/lib/python3.6/dist-packages (from google-cloud-storage->earthengine-api) (0.4.1)\n",
            "Requirement already satisfied, skipping upgrade: certifi in /usr/local/lib/python3.6/dist-packages (from httplib2shim->earthengine-api) (2020.6.20)\n",
            "Requirement already satisfied, skipping upgrade: urllib3 in /usr/local/lib/python3.6/dist-packages (from httplib2shim->earthengine-api) (1.24.3)\n",
            "Requirement already satisfied, skipping upgrade: pyasn1-modules>=0.2.1 in /usr/local/lib/python3.6/dist-packages (from google-auth>=1.4.1->earthengine-api) (0.2.8)\n",
            "Requirement already satisfied, skipping upgrade: cachetools<5.0,>=2.0.0 in /usr/local/lib/python3.6/dist-packages (from google-auth>=1.4.1->earthengine-api) (4.1.0)\n",
            "Requirement already satisfied, skipping upgrade: setuptools>=40.3.0 in /usr/local/lib/python3.6/dist-packages (from google-auth>=1.4.1->earthengine-api) (47.3.1)\n",
            "Requirement already satisfied, skipping upgrade: rsa<5,>=3.1.4; python_version >= \"3\" in /usr/local/lib/python3.6/dist-packages (from google-auth>=1.4.1->earthengine-api) (4.6)\n",
            "Requirement already satisfied, skipping upgrade: uritemplate<4dev,>=3.0.0 in /usr/local/lib/python3.6/dist-packages (from google-api-python-client->earthengine-api) (3.0.1)\n",
            "Requirement already satisfied, skipping upgrade: google-api-core<2.0.0dev,>=1.14.0 in /usr/local/lib/python3.6/dist-packages (from google-cloud-core<2.0dev,>=1.0.0->google-cloud-storage->earthengine-api) (1.16.0)\n",
            "Requirement already satisfied, skipping upgrade: pyasn1<0.5.0,>=0.4.6 in /usr/local/lib/python3.6/dist-packages (from pyasn1-modules>=0.2.1->google-auth>=1.4.1->earthengine-api) (0.4.8)\n",
            "Requirement already satisfied, skipping upgrade: pytz in /usr/local/lib/python3.6/dist-packages (from google-api-core<2.0.0dev,>=1.14.0->google-cloud-core<2.0dev,>=1.0.0->google-cloud-storage->earthengine-api) (2018.9)\n",
            "Requirement already satisfied, skipping upgrade: protobuf>=3.4.0 in /usr/local/lib/python3.6/dist-packages (from google-api-core<2.0.0dev,>=1.14.0->google-cloud-core<2.0dev,>=1.0.0->google-cloud-storage->earthengine-api) (3.10.0)\n",
            "Requirement already satisfied, skipping upgrade: googleapis-common-protos<2.0dev,>=1.6.0 in /usr/local/lib/python3.6/dist-packages (from google-api-core<2.0.0dev,>=1.14.0->google-cloud-core<2.0dev,>=1.0.0->google-cloud-storage->earthengine-api) (1.52.0)\n",
            "Requirement already satisfied, skipping upgrade: requests<3.0.0dev,>=2.18.0 in /usr/local/lib/python3.6/dist-packages (from google-api-core<2.0.0dev,>=1.14.0->google-cloud-core<2.0dev,>=1.0.0->google-cloud-storage->earthengine-api) (2.23.0)\n",
            "Requirement already satisfied, skipping upgrade: chardet<4,>=3.0.2 in /usr/local/lib/python3.6/dist-packages (from requests<3.0.0dev,>=2.18.0->google-api-core<2.0.0dev,>=1.14.0->google-cloud-core<2.0dev,>=1.0.0->google-cloud-storage->earthengine-api) (3.0.4)\n",
            "Requirement already satisfied, skipping upgrade: idna<3,>=2.5 in /usr/local/lib/python3.6/dist-packages (from requests<3.0.0dev,>=2.18.0->google-api-core<2.0.0dev,>=1.14.0->google-cloud-core<2.0dev,>=1.0.0->google-cloud-storage->earthengine-api) (2.9)\n"
          ],
          "name": "stdout"
        }
      ]
    },
    {
      "cell_type": "code",
      "metadata": {
        "id": "qADeB9rvfFiv",
        "colab_type": "code",
        "colab": {}
      },
      "source": [
        "from osgeo import gdal\n",
        "import matplotlib.pyplot as plt\n",
        "from skimage.transform import rescale, resize, downscale_local_mean\n",
        "import numpy as np\n",
        "import os"
      ],
      "execution_count": null,
      "outputs": []
    },
    {
      "cell_type": "code",
      "metadata": {
        "id": "6kBbYXpI7WNB",
        "colab_type": "code",
        "colab": {
          "base_uri": "https://localhost:8080/",
          "height": 187
        },
        "outputId": "ed1c9a5a-729c-475b-a9e4-ca6dbe156a4a"
      },
      "source": [
        "import ee\n",
        "ee.Authenticate()\n",
        "ee.Initialize()"
      ],
      "execution_count": null,
      "outputs": [
        {
          "output_type": "stream",
          "text": [
            "To authorize access needed by Earth Engine, open the following URL in a web browser and follow the instructions. If the web browser does not start automatically, please manually browse the URL below.\n",
            "\n",
            "    https://accounts.google.com/o/oauth2/auth?client_id=517222506229-vsmmajv00ul0bs7p89v5m89qs8eb9359.apps.googleusercontent.com&scope=https%3A%2F%2Fwww.googleapis.com%2Fauth%2Fearthengine+https%3A%2F%2Fwww.googleapis.com%2Fauth%2Fdevstorage.full_control&redirect_uri=urn%3Aietf%3Awg%3Aoauth%3A2.0%3Aoob&response_type=code&code_challenge=tk0IzghxWUyFubL3SpxnkBihIeD6GMK0HLyr1aY6xCo&code_challenge_method=S256\n",
            "\n",
            "The authorization workflow will generate a code, which you should paste in the box below. \n",
            "Enter verification code: 4/1wH8FtwGa5v1Nn5aeTtWHcpDVA5Q_KL6potKtffDjNS4dnSC6IvGVGc\n",
            "\n",
            "Successfully saved authorization token.\n"
          ],
          "name": "stdout"
        }
      ]
    },
    {
      "cell_type": "code",
      "metadata": {
        "id": "Aa_l2lt6fTq2",
        "colab_type": "code",
        "colab": {
          "base_uri": "https://localhost:8080/",
          "height": 131
        },
        "outputId": "3b63fda1-f968-41c4-b366-bf99418c9c90"
      },
      "source": [
        "from google.colab import drive\n",
        "\n",
        "drive.mount('/content/gdrive')"
      ],
      "execution_count": null,
      "outputs": [
        {
          "output_type": "stream",
          "text": [
            "Go to this URL in a browser: https://accounts.google.com/o/oauth2/auth?client_id=947318989803-6bn6qk8qdgf4n4g3pfee6491hc0brc4i.apps.googleusercontent.com&redirect_uri=urn%3aietf%3awg%3aoauth%3a2.0%3aoob&response_type=code&scope=email%20https%3a%2f%2fwww.googleapis.com%2fauth%2fdocs.test%20https%3a%2f%2fwww.googleapis.com%2fauth%2fdrive%20https%3a%2f%2fwww.googleapis.com%2fauth%2fdrive.photos.readonly%20https%3a%2f%2fwww.googleapis.com%2fauth%2fpeopleapi.readonly\n",
            "\n",
            "Enter your authorization code:\n",
            "··········\n",
            "Mounted at /content/gdrive\n"
          ],
          "name": "stdout"
        }
      ]
    },
    {
      "cell_type": "code",
      "metadata": {
        "id": "t05DNcLUEQM3",
        "colab_type": "code",
        "colab": {}
      },
      "source": [
        "def getPolygon(lat_long_tup, scale_):\n",
        "  lat = lat_long_tup[0]\n",
        "  long_ = lat_long_tup[1]\n",
        "  aoi = ee.Geometry.Polygon(\n",
        "        [[[lat-(scale_/2), long_-(scale_/2)],\n",
        "          [lat-(scale_/2), long_+(scale_/2)],\n",
        "          [lat+(scale_/2), long_+(scale_/2)],\n",
        "          [lat+(scale_/2), long_-(scale_/2)]]], None, False)\n",
        "  return aoi\n",
        "\n",
        "# only works for image products of TOA and SR:\n",
        "def tifToPNG(img, img_product, aoi, filename='PNG1.png', scale=1, sclx=1, nums=\"123\"):\n",
        "  print(\"Processing conversion for\", filename+\"...\")\n",
        "\n",
        "  # Get a scaled 2-d pixel array for AOI \n",
        "  band_arrs = img.reproject(crs=img.projection().crs(), scale=sclx).sampleRectangle(region=aoi, defaultValue=0)\n",
        "  \n",
        "  # Get individual band arrays.\n",
        "  band_arr_b4 = band_arrs.get('B'+nums[0])\n",
        "  band_arr_b5 = band_arrs.get('B'+nums[1])\n",
        "  band_arr_b6 = band_arrs.get('B'+nums[2])\n",
        "  \n",
        "  # Transfer the arrays from server to client and cast as np array.\n",
        "  np_arr_b4 = np.array(band_arr_b4.getInfo())\n",
        "  np_arr_b5 = np.array(band_arr_b5.getInfo())\n",
        "  np_arr_b6 = np.array(band_arr_b6.getInfo())\n",
        "\n",
        "  # Expand the dimensions of the images so they can be concatenated into 3-D.\n",
        "  np_arr_b4 = np.expand_dims(np_arr_b4, 2)\n",
        "  np_arr_b5 = np.expand_dims(np_arr_b5, 2)\n",
        "  np_arr_b6 = np.expand_dims(np_arr_b6, 2)\n",
        "  \n",
        "  # Stack the individual bands to make a 3-D array.\n",
        "  rgb_img = np.concatenate((np_arr_b6, np_arr_b5, np_arr_b4), 2)\n",
        "\n",
        "  # Scale the data to [0, 255] to show as an RGB image.\n",
        "  rgb_img_test = (255*((rgb_img - 100)/3500)).astype('uint8') if img_product == 'SR' else (255*(rgb_img/0.35)).astype('uint8')\n",
        "  img_rescaled = rescale(rgb_img_test, scale=(scale, scale, 1))\n",
        "  plt.imsave(filename, img_rescaled)\n",
        "\n",
        "  return img_rescaled"
      ],
      "execution_count": null,
      "outputs": []
    },
    {
      "cell_type": "markdown",
      "metadata": {
        "id": "c29kF6uVK2lA",
        "colab_type": "text"
      },
      "source": [
        "Function usage demo:"
      ]
    },
    {
      "cell_type": "code",
      "metadata": {
        "id": "hPJzqo_8mKMO",
        "colab_type": "code",
        "colab": {
          "base_uri": "https://localhost:8080/",
          "height": 1000
        },
        "outputId": "aa408625-2161-43e9-be6b-445ad9896ab4"
      },
      "source": [
        "path = 'drive/My Drive/CV_DATA/'\n",
        "coodnts = open(path+'coodnts.txt')\n",
        "\n",
        "for line in coodnts.readlines():\n",
        "  xtract = line.split(',')\n",
        "  xtract = [xtract[0].strip(), xtract[1].strip(), xtract[2].strip()]\n",
        "  filenameold = xtract[0]+\"OLD.png\"\n",
        "  filenamenew = xtract[0]+\"NEW.png\"\n",
        "  filename2010 = xtract[0]+\"2010.png\"\n",
        "\n",
        "  aoi = getPolygon((float(xtract[2]), float(xtract[1])), 0.12) \n",
        "  \n",
        "  # old version\n",
        "  img = ee.ImageCollection('LANDSAT/LE07/C01/T1_SR').filterDate('1998-01', '2000-12-31').median().select(['B1', 'B2', 'B3'])\n",
        "  tifToPNG(img, 'SR', aoi, filename=path+\"old/\"+filenameold, scale=1.5, sclx=30)\n",
        "\n",
        "  # new version\n",
        "  img = ee.ImageCollection('LANDSAT/LE07/C01/T1_SR').filterDate('2018-01', '2020-12-31').median().select(['B1', 'B2', 'B3'])\n",
        "  tifToPNG(img, 'SR', aoi, filename=path+\"new/\"+filenamenew, scale=1.5, sclx=30)\n",
        "\n",
        "  # 2010 version\n",
        "  img = ee.ImageCollection('LANDSAT/LE07/C01/T1_SR').filterDate('2010-01', '2010-12-31').median().select(['B1', 'B2', 'B3'])\n",
        "  tifToPNG(img, 'SR', aoi, filename=path+\"2010/\"+filename2010, scale=1.5, sclx=30)"
      ],
      "execution_count": null,
      "outputs": [
        {
          "output_type": "stream",
          "text": [
            "Processing conversion for drive/My Drive/CV_DATA/2010/KushtiaBANGLA2010.png...\n",
            "Processing conversion for drive/My Drive/CV_DATA/2010/MaguraBANGLA2010.png...\n",
            "Processing conversion for drive/My Drive/CV_DATA/2010/MeherpurBANGLA2010.png...\n",
            "Processing conversion for drive/My Drive/CV_DATA/2010/NarailBANGLA2010.png...\n",
            "Processing conversion for drive/My Drive/CV_DATA/2010/SatkhiraBANGLA2010.png...\n",
            "Processing conversion for drive/My Drive/CV_DATA/2010/BograBANGLA2010.png...\n",
            "Processing conversion for drive/My Drive/CV_DATA/2010/NawabganjBANGLA2010.png...\n",
            "Processing conversion for drive/My Drive/CV_DATA/2010/joypurhatBANGLA2010.png...\n",
            "Processing conversion for drive/My Drive/CV_DATA/2010/NaogaonBANGLA2010.png...\n",
            "Processing conversion for drive/My Drive/CV_DATA/2010/PabnaBANGLA2010.png...\n",
            "Processing conversion for drive/My Drive/CV_DATA/2010/SirajganjBANGLA2010.png...\n",
            "Processing conversion for drive/My Drive/CV_DATA/2010/DinajpurBANGLA2010.png...\n",
            "Processing conversion for drive/My Drive/CV_DATA/2010/GaibandhaBANGLA2010.png...\n",
            "Processing conversion for drive/My Drive/CV_DATA/2010/KurigramBANGLA2010.png...\n",
            "Processing conversion for drive/My Drive/CV_DATA/2010/LalmonirhatBANGLA2010.png...\n",
            "Processing conversion for drive/My Drive/CV_DATA/2010/NilphamariBANGLA2010.png...\n",
            "Processing conversion for drive/My Drive/CV_DATA/2010/PanchagarhBANGLA2010.png...\n",
            "Processing conversion for drive/My Drive/CV_DATA/2010/ThakurgaonBANGLA2010.png...\n",
            "Processing conversion for drive/My Drive/CV_DATA/2010/SylhetBANGLA2010.png...\n",
            "Processing conversion for drive/My Drive/CV_DATA/2010/HabiganjBANGLA2010.png...\n",
            "Processing conversion for drive/My Drive/CV_DATA/2010/SunamganjBANGLA2010.png...\n",
            "Processing conversion for drive/My Drive/CV_DATA/2010/BarisalBANGLA2010.png...\n",
            "Processing conversion for drive/My Drive/CV_DATA/2010/BhalukaBANGLA2010.png...\n",
            "Processing conversion for drive/My Drive/CV_DATA/2010/ChandpurBANGLA2010.png...\n",
            "Processing conversion for drive/My Drive/CV_DATA/2010/SavarBANGLA2010.png...\n",
            "Processing conversion for drive/My Drive/CV_DATA/2010/TaraboBANGLA2010.png...\n",
            "Processing conversion for drive/My Drive/CV_DATA/2010/BasurhatBANGLA2010.png...\n",
            "Processing conversion for drive/My Drive/CV_DATA/2010/KaliakairBANGLA2010.png...\n",
            "Processing conversion for drive/My Drive/CV_DATA/2010/NaogaonBANGLA2010.png...\n",
            "Processing conversion for drive/My Drive/CV_DATA/2010/NilphamariBANGLA2010.png...\n",
            "Processing conversion for drive/My Drive/CV_DATA/2010/PabnaBANGLA2010.png...\n",
            "Processing conversion for drive/My Drive/CV_DATA/2010/SaidpurBANGLA2010.png...\n",
            "Processing conversion for drive/My Drive/CV_DATA/2010/RamganjBANGLA2010.png...\n",
            "Processing conversion for drive/My Drive/CV_DATA/2010/KandySRILANKA2010.png...\n",
            "Processing conversion for drive/My Drive/CV_DATA/2010/MataleSRILANKA2010.png...\n",
            "Processing conversion for drive/My Drive/CV_DATA/2010/Nuwara EliyaSRILANKA2010.png...\n",
            "Processing conversion for drive/My Drive/CV_DATA/2010/AmparaSRILANKA2010.png...\n",
            "Processing conversion for drive/My Drive/CV_DATA/2010/BatticaloaSRILANKA2010.png...\n",
            "Processing conversion for drive/My Drive/CV_DATA/2010/TrincomaleeSRILANKA2010.png...\n",
            "Processing conversion for drive/My Drive/CV_DATA/2010/AnuradhapuraSRILANKA2010.png...\n",
            "Processing conversion for drive/My Drive/CV_DATA/2010/PolonnaruwaSRILANKA2010.png...\n",
            "Processing conversion for drive/My Drive/CV_DATA/2010/JaffnaSRILANKA2010.png...\n",
            "Processing conversion for drive/My Drive/CV_DATA/2010/KilinochchiSRILANKA2010.png...\n",
            "Processing conversion for drive/My Drive/CV_DATA/2010/MannarSRILANKA2010.png...\n",
            "Processing conversion for drive/My Drive/CV_DATA/2010/MullaitivuSRILANKA2010.png...\n",
            "Processing conversion for drive/My Drive/CV_DATA/2010/VavuniyaSRILANKA2010.png...\n",
            "Processing conversion for drive/My Drive/CV_DATA/2010/KurunegalaSRILANKA2010.png...\n",
            "Processing conversion for drive/My Drive/CV_DATA/2010/PuttalamSRILANKA2010.png...\n",
            "Processing conversion for drive/My Drive/CV_DATA/2010/SabaragamuwaSRILANKA2010.png...\n",
            "Processing conversion for drive/My Drive/CV_DATA/2010/KegalleSRILANKA2010.png...\n",
            "Processing conversion for drive/My Drive/CV_DATA/2010/RatnapuraSRILANKA2010.png...\n",
            "Processing conversion for drive/My Drive/CV_DATA/2010/DakunuSRILANKA2010.png...\n",
            "Processing conversion for drive/My Drive/CV_DATA/2010/GalleSRILANKA2010.png...\n",
            "Processing conversion for drive/My Drive/CV_DATA/2010/HambantotaSRILANKA2010.png...\n",
            "Processing conversion for drive/My Drive/CV_DATA/2010/MataraSRILANKA2010.png...\n",
            "Processing conversion for drive/My Drive/CV_DATA/2010/UvaSRILANKA2010.png...\n",
            "Processing conversion for drive/My Drive/CV_DATA/2010/BadullaSRILANKA2010.png...\n",
            "Processing conversion for drive/My Drive/CV_DATA/2010/MoneragalaSRILANKA2010.png...\n",
            "Processing conversion for drive/My Drive/CV_DATA/2010/BhaktapurNEPAL2010.png...\n",
            "Processing conversion for drive/My Drive/CV_DATA/2010/CitvanNEPAL2010.png...\n",
            "Processing conversion for drive/My Drive/CV_DATA/2010/DhadingNEPAL2010.png...\n",
            "Processing conversion for drive/My Drive/CV_DATA/2010/DolakhaNEPAL2010.png...\n",
            "Processing conversion for drive/My Drive/CV_DATA/2010/KavrepalanchokNEPAL2010.png...\n",
            "Processing conversion for drive/My Drive/CV_DATA/2010/KathmanduNEPAL2010.png...\n",
            "Processing conversion for drive/My Drive/CV_DATA/2010/LalitpurNEPAL2010.png...\n",
            "Processing conversion for drive/My Drive/CV_DATA/2010/MakwanpurNEPAL2010.png...\n",
            "Processing conversion for drive/My Drive/CV_DATA/2010/NuwakotNEPAL2010.png...\n",
            "Processing conversion for drive/My Drive/CV_DATA/2010/RamechhapNEPAL2010.png...\n",
            "Processing conversion for drive/My Drive/CV_DATA/2010/SindhuliNEPAL2010.png...\n",
            "Processing conversion for drive/My Drive/CV_DATA/2010/SindhupalchowkNEPAL2010.png...\n",
            "Processing conversion for drive/My Drive/CV_DATA/2010/BaglungNEPAL2010.png...\n",
            "Processing conversion for drive/My Drive/CV_DATA/2010/GorkhaNEPAL2010.png...\n",
            "Processing conversion for drive/My Drive/CV_DATA/2010/KaskiNEPAL2010.png...\n",
            "Processing conversion for drive/My Drive/CV_DATA/2010/LamjungNEPAL2010.png...\n",
            "Processing conversion for drive/My Drive/CV_DATA/2010/MyagdiNEPAL2010.png...\n",
            "Processing conversion for drive/My Drive/CV_DATA/2010/NawalparasiNEPAL2010.png...\n",
            "Processing conversion for drive/My Drive/CV_DATA/2010/ParbatNEPAL2010.png...\n",
            "Processing conversion for drive/My Drive/CV_DATA/2010/SyangjaNEPAL2010.png...\n",
            "Processing conversion for drive/My Drive/CV_DATA/2010/TanahunNEPAL2010.png...\n",
            "Processing conversion for drive/My Drive/CV_DATA/2010/BaraNEPAL2010.png...\n",
            "Processing conversion for drive/My Drive/CV_DATA/2010/DhanusaNEPAL2010.png...\n",
            "Processing conversion for drive/My Drive/CV_DATA/2010/MahottariNEPAL2010.png...\n",
            "Processing conversion for drive/My Drive/CV_DATA/2010/ParsaNEPAL2010.png...\n",
            "Processing conversion for drive/My Drive/CV_DATA/2010/RautahatNEPAL2010.png...\n",
            "Processing conversion for drive/My Drive/CV_DATA/2010/SaptariNEPAL2010.png...\n",
            "Processing conversion for drive/My Drive/CV_DATA/2010/SarlahiNEPAL2010.png...\n",
            "Processing conversion for drive/My Drive/CV_DATA/2010/SirahaNEPAL2010.png...\n",
            "Processing conversion for drive/My Drive/CV_DATA/2010/DailekhNEPAL2010.png...\n",
            "Processing conversion for drive/My Drive/CV_DATA/2010/JajarkotNEPAL2010.png...\n",
            "Processing conversion for drive/My Drive/CV_DATA/2010/JumlaNEPAL2010.png...\n",
            "Processing conversion for drive/My Drive/CV_DATA/2010/KalikotNEPAL2010.png...\n",
            "Processing conversion for drive/My Drive/CV_DATA/2010/RukumNEPAL2010.png...\n",
            "Processing conversion for drive/My Drive/CV_DATA/2010/SalyanNEPAL2010.png...\n",
            "Processing conversion for drive/My Drive/CV_DATA/2010/SurkhetNEPAL2010.png...\n",
            "Processing conversion for drive/My Drive/CV_DATA/2010/BhojpurNEPAL2010.png...\n",
            "Processing conversion for drive/My Drive/CV_DATA/2010/DhankutaNEPAL2010.png...\n",
            "Processing conversion for drive/My Drive/CV_DATA/2010/IlamNEPAL2010.png...\n",
            "Processing conversion for drive/My Drive/CV_DATA/2010/JhapaNEPAL2010.png...\n",
            "Processing conversion for drive/My Drive/CV_DATA/2010/KhotangNEPAL2010.png...\n",
            "Processing conversion for drive/My Drive/CV_DATA/2010/MorangNEPAL2010.png...\n",
            "Processing conversion for drive/My Drive/CV_DATA/2010/OkhaldhungaNEPAL2010.png...\n",
            "Processing conversion for drive/My Drive/CV_DATA/2010/PanchtharNEPAL2010.png...\n",
            "Processing conversion for drive/My Drive/CV_DATA/2010/SankhuwasabhaNEPAL2010.png...\n",
            "Processing conversion for drive/My Drive/CV_DATA/2010/SolukhumbuNEPAL2010.png...\n",
            "Processing conversion for drive/My Drive/CV_DATA/2010/SunsariNEPAL2010.png...\n",
            "Processing conversion for drive/My Drive/CV_DATA/2010/TaplejungNEPAL2010.png...\n",
            "Processing conversion for drive/My Drive/CV_DATA/2010/TehrathumNEPAL2010.png...\n",
            "Processing conversion for drive/My Drive/CV_DATA/2010/UdayapurNEPAL2010.png...\n",
            "Processing conversion for drive/My Drive/CV_DATA/2010/ArghakhanchiNEPAL2010.png...\n",
            "Processing conversion for drive/My Drive/CV_DATA/2010/BankeNEPAL2010.png...\n",
            "Processing conversion for drive/My Drive/CV_DATA/2010/BardiyaNEPAL2010.png...\n",
            "Processing conversion for drive/My Drive/CV_DATA/2010/Dang DeukhuriNEPAL2010.png...\n",
            "Processing conversion for drive/My Drive/CV_DATA/2010/GulmiNEPAL2010.png...\n",
            "Processing conversion for drive/My Drive/CV_DATA/2010/KapilvastuNEPAL2010.png...\n",
            "Processing conversion for drive/My Drive/CV_DATA/2010/NawalparasiNEPAL2010.png...\n",
            "Processing conversion for drive/My Drive/CV_DATA/2010/PalpaNEPAL2010.png...\n",
            "Processing conversion for drive/My Drive/CV_DATA/2010/PyuthanNEPAL2010.png...\n",
            "Processing conversion for drive/My Drive/CV_DATA/2010/RolpaNEPAL2010.png...\n",
            "Processing conversion for drive/My Drive/CV_DATA/2010/RupandehiNEPAL2010.png...\n",
            "Processing conversion for drive/My Drive/CV_DATA/2010/AchhamNEPAL2010.png...\n",
            "Processing conversion for drive/My Drive/CV_DATA/2010/BaitadiNEPAL2010.png...\n",
            "Processing conversion for drive/My Drive/CV_DATA/2010/BajhangNEPAL2010.png...\n",
            "Processing conversion for drive/My Drive/CV_DATA/2010/BajuraNEPAL2010.png...\n",
            "Processing conversion for drive/My Drive/CV_DATA/2010/DadeldhuraNEPAL2010.png...\n",
            "Processing conversion for drive/My Drive/CV_DATA/2010/DarchulaNEPAL2010.png...\n",
            "Processing conversion for drive/My Drive/CV_DATA/2010/DotiNEPAL2010.png...\n",
            "Processing conversion for drive/My Drive/CV_DATA/2010/KailaliNEPAL2010.png...\n",
            "Processing conversion for drive/My Drive/CV_DATA/2010/KanchanpurNEPAL2010.png...\n",
            "Processing conversion for drive/My Drive/CV_DATA/2010/BharatpurNEPAL2010.png...\n",
            "Processing conversion for drive/My Drive/CV_DATA/2010/BhimdattaNEPAL2010.png...\n",
            "Processing conversion for drive/My Drive/CV_DATA/2010/BiratnagarNEPAL2010.png...\n",
            "Processing conversion for drive/My Drive/CV_DATA/2010/BirendranagarNEPAL2010.png...\n",
            "Processing conversion for drive/My Drive/CV_DATA/2010/BirgunjNEPAL2010.png...\n",
            "Processing conversion for drive/My Drive/CV_DATA/2010/BudhanilakanthaNEPAL2010.png...\n",
            "Processing conversion for drive/My Drive/CV_DATA/2010/ButwalNEPAL2010.png...\n",
            "Processing conversion for drive/My Drive/CV_DATA/2010/DhangadhiNEPAL2010.png...\n",
            "Processing conversion for drive/My Drive/CV_DATA/2010/DharanNEPAL2010.png...\n",
            "Processing conversion for drive/My Drive/CV_DATA/2010/GhorahiNEPAL2010.png...\n",
            "Processing conversion for drive/My Drive/CV_DATA/2010/GokarneshworNEPAL2010.png...\n",
            "Processing conversion for drive/My Drive/CV_DATA/2010/HetaudaNEPAL2010.png...\n",
            "Processing conversion for drive/My Drive/CV_DATA/2010/ItahariNEPAL2010.png...\n",
            "Processing conversion for drive/My Drive/CV_DATA/2010/JanakpurNEPAL2010.png...\n",
            "Processing conversion for drive/My Drive/CV_DATA/2010/Jitpur SimaraNEPAL2010.png...\n",
            "Processing conversion for drive/My Drive/CV_DATA/2010/KalaiyaNEPAL2010.png...\n",
            "Processing conversion for drive/My Drive/CV_DATA/2010/KathmanduNEPAL2010.png...\n",
            "Processing conversion for drive/My Drive/CV_DATA/2010/LahanNEPAL2010.png...\n",
            "Processing conversion for drive/My Drive/CV_DATA/2010/MechinagarNEPAL2010.png...\n",
            "Processing conversion for drive/My Drive/CV_DATA/2010/NepalganjNEPAL2010.png...\n",
            "Processing conversion for drive/My Drive/CV_DATA/2010/Pokhara LekhnathNEPAL2010.png...\n",
            "Processing conversion for drive/My Drive/CV_DATA/2010/TilottamaNEPAL2010.png...\n",
            "Processing conversion for drive/My Drive/CV_DATA/2010/TokhaNEPAL2010.png...\n",
            "Processing conversion for drive/My Drive/CV_DATA/2010/TulsipurNEPAL2010.png...\n"
          ],
          "name": "stdout"
        }
      ]
    },
    {
      "cell_type": "code",
      "metadata": {
        "id": "rwc2Ec9bXCTJ",
        "colab_type": "code",
        "colab": {
          "base_uri": "https://localhost:8080/",
          "height": 36
        },
        "outputId": "b367ab18-608e-4b31-c7de-6a14fe6df992"
      },
      "source": [
        "DIR = 'drive/My Drive/CV_DATA/2010'\n",
        "print (len([name for name in os.listdir(DIR) if os.path.isfile(os.path.join(DIR, name))]))"
      ],
      "execution_count": null,
      "outputs": [
        {
          "output_type": "stream",
          "text": [
            "438\n"
          ],
          "name": "stdout"
        }
      ]
    }
  ]
}